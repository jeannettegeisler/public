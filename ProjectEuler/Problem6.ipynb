{
 "cells": [
  {
   "cell_type": "markdown",
   "id": "f041c69a",
   "metadata": {},
   "source": [
    "# Project Euler: Problem 6\n",
    "## Problem Statement\n",
    "The sum of the squares of the first ten natural numbers is 385,\n",
    "\n",
    "The square of the sum of the first ten natural numbers is 3025,\n",
    "\n",
    "Hence the difference between the sum of the squares of the first ten natural numbers and the square of the sum is 2640.\n",
    "\n",
    "Find the difference between the sum of the squares of the first one hundred natural numbers and the square of the sum."
   ]
  },
  {
   "cell_type": "markdown",
   "id": "148c8455",
   "metadata": {},
   "source": [
    "## Solution "
   ]
  },
  {
   "cell_type": "code",
   "execution_count": 5,
   "id": "a219dfa5",
   "metadata": {},
   "outputs": [
    {
     "name": "stdout",
     "output_type": "stream",
     "text": [
      "25164150\n"
     ]
    }
   ],
   "source": [
    "sumSquared = 0\n",
    "total = 0\n",
    "for i in range(1, 101):\n",
    "    sumSquared = sumSquared + i**2\n",
    "    total = total + i\n",
    "    #print([i, total, sumSquared])\n",
    "totalSquared = total**2\n",
    "diff = abs(sumSquared - totalSquared)\n",
    "print(diff)"
   ]
  },
  {
   "cell_type": "code",
   "execution_count": null,
   "id": "63d37db8",
   "metadata": {},
   "outputs": [],
   "source": []
  }
 ],
 "metadata": {
  "kernelspec": {
   "display_name": "Python 3",
   "language": "python",
   "name": "python3"
  },
  "language_info": {
   "codemirror_mode": {
    "name": "ipython",
    "version": 3
   },
   "file_extension": ".py",
   "mimetype": "text/x-python",
   "name": "python",
   "nbconvert_exporter": "python",
   "pygments_lexer": "ipython3",
   "version": "3.9.5"
  }
 },
 "nbformat": 4,
 "nbformat_minor": 5
}
