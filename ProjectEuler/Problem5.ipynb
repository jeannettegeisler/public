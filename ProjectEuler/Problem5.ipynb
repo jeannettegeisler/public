{
 "cells": [
  {
   "cell_type": "markdown",
   "id": "c8307ade",
   "metadata": {},
   "source": [
    "# Project Euler: Problem 5\n",
    "## Problem Statement\n",
    "2520 is the smallest number that can be divided by each of the numbers from 1 to 10 without any remainder.\n",
    "\n",
    "What is the smallest positive number that is evenly divisible by all of the numbers from 1 to 20?"
   ]
  },
  {
   "cell_type": "markdown",
   "id": "72bee62b",
   "metadata": {},
   "source": [
    "## Solution "
   ]
  },
  {
   "cell_type": "code",
   "execution_count": 6,
   "id": "e20938b2",
   "metadata": {},
   "outputs": [],
   "source": [
    "def isDivisable(n):\n",
    "    for ii in range(2, 21, 1):\n",
    "        if n%ii != 0:\n",
    "            return bool(0)\n",
    "    return bool(1)"
   ]
  },
  {
   "cell_type": "code",
   "execution_count": 10,
   "id": "ca1ce13a",
   "metadata": {},
   "outputs": [
    {
     "name": "stdout",
     "output_type": "stream",
     "text": [
      "232792560\n"
     ]
    }
   ],
   "source": [
    "i = 1\n",
    "while i != 0: \n",
    "    if isDivisable(i):\n",
    "        break    \n",
    "    i = i + 1    \n",
    "print(i)"
   ]
  },
  {
   "cell_type": "code",
   "execution_count": null,
   "id": "16ad6f58",
   "metadata": {},
   "outputs": [],
   "source": []
  }
 ],
 "metadata": {
  "kernelspec": {
   "display_name": "Python 3",
   "language": "python",
   "name": "python3"
  },
  "language_info": {
   "codemirror_mode": {
    "name": "ipython",
    "version": 3
   },
   "file_extension": ".py",
   "mimetype": "text/x-python",
   "name": "python",
   "nbconvert_exporter": "python",
   "pygments_lexer": "ipython3",
   "version": "3.9.5"
  }
 },
 "nbformat": 4,
 "nbformat_minor": 5
}
